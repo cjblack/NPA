{
 "cells": [
  {
   "cell_type": "markdown",
   "source": [
    "# Plot total gamma power across probe\n",
    "Start by importing utils and plots"
   ],
   "metadata": {
    "collapsed": false
   }
  },
  {
   "cell_type": "code",
   "execution_count": 4,
   "outputs": [],
   "source": [
    "from src.npa.utils import *\n",
    "from src.npa.plots import *\n",
    "import matplotlib.pyplot as plt\n",
    "%matplotlib inline"
   ],
   "metadata": {
    "collapsed": false
   }
  },
  {
   "cell_type": "markdown",
   "source": [
    "Set directory pointing to recording, and extract the LFP data"
   ],
   "metadata": {
    "collapsed": false
   }
  },
  {
   "cell_type": "code",
   "execution_count": 3,
   "outputs": [],
   "source": [
    "directory = 'G:/Laura NP Data/baseline_2024-07-17_11-47-16'#'baseline' # this will need to be changed to data path\n",
    "lfp = get_lfp_data(directory) # returns open ephys structure containing lfp samples and metadata"
   ],
   "metadata": {
    "collapsed": false
   }
  },
  {
   "cell_type": "markdown",
   "source": [
    "Plot the total power spectral density for each electrode across the probe in the 80-100Hz band"
   ],
   "metadata": {
    "collapsed": false
   }
  },
  {
   "cell_type": "code",
   "execution_count": 6,
   "outputs": [
    {
     "ename": "FileNotFoundError",
     "evalue": "[Errno 2] No such file or directory: 'probes/NP1_3A/channel_positions.npy'",
     "output_type": "error",
     "traceback": [
      "\u001B[1;31m---------------------------------------------------------------------------\u001B[0m",
      "\u001B[1;31mFileNotFoundError\u001B[0m                         Traceback (most recent call last)",
      "Cell \u001B[1;32mIn[6], line 1\u001B[0m\n\u001B[1;32m----> 1\u001B[0m \u001B[43mplot_probe_freq\u001B[49m\u001B[43m(\u001B[49m\u001B[43mlfp\u001B[49m\u001B[43m,\u001B[49m\u001B[43mfreq_range\u001B[49m\u001B[38;5;241;43m=\u001B[39;49m\u001B[43m[\u001B[49m\u001B[38;5;241;43m80.0\u001B[39;49m\u001B[43m,\u001B[49m\u001B[43m \u001B[49m\u001B[38;5;241;43m100.0\u001B[39;49m\u001B[43m]\u001B[49m\u001B[43m)\u001B[49m\n",
      "File \u001B[1;32m~\\NPA\\src\\npa\\plots.py:77\u001B[0m, in \u001B[0;36mplot_probe_freq\u001B[1;34m(data, probe, freq_range, probe_region)\u001B[0m\n\u001B[0;32m     74\u001B[0m freq_idxs \u001B[38;5;241m=\u001B[39m np\u001B[38;5;241m.\u001B[39mwhere(np\u001B[38;5;241m.\u001B[39mlogical_and(f\u001B[38;5;241m>\u001B[39m\u001B[38;5;241m=\u001B[39mfreq_range[\u001B[38;5;241m0\u001B[39m],f\u001B[38;5;241m<\u001B[39mfreq_range[\u001B[38;5;241m1\u001B[39m]))\n\u001B[0;32m     76\u001B[0m \u001B[38;5;66;03m# get channel mapping\u001B[39;00m\n\u001B[1;32m---> 77\u001B[0m chan_loc \u001B[38;5;241m=\u001B[39m \u001B[43mutils\u001B[49m\u001B[38;5;241;43m.\u001B[39;49m\u001B[43mget_channel_locs\u001B[49m\u001B[43m(\u001B[49m\u001B[43mprobe\u001B[49m\u001B[43m)\u001B[49m\n\u001B[0;32m     78\u001B[0m chan_map \u001B[38;5;241m=\u001B[39m utils\u001B[38;5;241m.\u001B[39mget_channel_map(probe)\n\u001B[0;32m     80\u001B[0m \u001B[38;5;28;01mfor\u001B[39;00m chan \u001B[38;5;129;01min\u001B[39;00m channels:\n",
      "File \u001B[1;32m~\\NPA\\src\\npa\\utils.py:48\u001B[0m, in \u001B[0;36mget_channel_locs\u001B[1;34m(probe)\u001B[0m\n\u001B[0;32m     46\u001B[0m \u001B[38;5;28;01mdef\u001B[39;00m \u001B[38;5;21mget_channel_locs\u001B[39m(probe \u001B[38;5;241m=\u001B[39m \u001B[38;5;124m'\u001B[39m\u001B[38;5;124m1_3A\u001B[39m\u001B[38;5;124m'\u001B[39m):\n\u001B[0;32m     47\u001B[0m     probe_dir \u001B[38;5;241m=\u001B[39m \u001B[38;5;124m'\u001B[39m\u001B[38;5;124mprobes/NP\u001B[39m\u001B[38;5;124m'\u001B[39m\u001B[38;5;241m+\u001B[39mprobe\u001B[38;5;241m+\u001B[39m\u001B[38;5;124m'\u001B[39m\u001B[38;5;124m/\u001B[39m\u001B[38;5;124m'\u001B[39m\n\u001B[1;32m---> 48\u001B[0m     chan_loc \u001B[38;5;241m=\u001B[39m \u001B[43mnp\u001B[49m\u001B[38;5;241;43m.\u001B[39;49m\u001B[43mload\u001B[49m\u001B[43m(\u001B[49m\u001B[43mprobe_dir\u001B[49m\u001B[43m \u001B[49m\u001B[38;5;241;43m+\u001B[39;49m\u001B[43m \u001B[49m\u001B[38;5;124;43m'\u001B[39;49m\u001B[38;5;124;43mchannel_positions.npy\u001B[39;49m\u001B[38;5;124;43m'\u001B[39;49m\u001B[43m)\u001B[49m  \u001B[38;5;66;03m# physical channel locations\u001B[39;00m\n\u001B[0;32m     49\u001B[0m     \u001B[38;5;28;01mreturn\u001B[39;00m chan_loc\n",
      "File \u001B[1;32m~\\anaconda3\\envs\\NPA\\lib\\site-packages\\numpy\\lib\\npyio.py:427\u001B[0m, in \u001B[0;36mload\u001B[1;34m(file, mmap_mode, allow_pickle, fix_imports, encoding, max_header_size)\u001B[0m\n\u001B[0;32m    425\u001B[0m     own_fid \u001B[38;5;241m=\u001B[39m \u001B[38;5;28;01mFalse\u001B[39;00m\n\u001B[0;32m    426\u001B[0m \u001B[38;5;28;01melse\u001B[39;00m:\n\u001B[1;32m--> 427\u001B[0m     fid \u001B[38;5;241m=\u001B[39m stack\u001B[38;5;241m.\u001B[39menter_context(\u001B[38;5;28;43mopen\u001B[39;49m\u001B[43m(\u001B[49m\u001B[43mos_fspath\u001B[49m\u001B[43m(\u001B[49m\u001B[43mfile\u001B[49m\u001B[43m)\u001B[49m\u001B[43m,\u001B[49m\u001B[43m \u001B[49m\u001B[38;5;124;43m\"\u001B[39;49m\u001B[38;5;124;43mrb\u001B[39;49m\u001B[38;5;124;43m\"\u001B[39;49m\u001B[43m)\u001B[49m)\n\u001B[0;32m    428\u001B[0m     own_fid \u001B[38;5;241m=\u001B[39m \u001B[38;5;28;01mTrue\u001B[39;00m\n\u001B[0;32m    430\u001B[0m \u001B[38;5;66;03m# Code to distinguish from NumPy binary files and pickles.\u001B[39;00m\n",
      "\u001B[1;31mFileNotFoundError\u001B[0m: [Errno 2] No such file or directory: 'probes/NP1_3A/channel_positions.npy'"
     ]
    }
   ],
   "source": [
    "plot_probe_freq(lfp,freq_range=[80.0, 100.0])"
   ],
   "metadata": {
    "collapsed": false
   }
  },
  {
   "cell_type": "markdown",
   "source": [
    "Try again, but for another frequency range"
   ],
   "metadata": {
    "collapsed": false
   }
  },
  {
   "cell_type": "code",
   "execution_count": null,
   "outputs": [],
   "source": [
    "plot_probe_freq(lfp,freq_range=[7.0, 14.0]) # alpha"
   ],
   "metadata": {
    "collapsed": false
   }
  }
 ],
 "metadata": {
  "kernelspec": {
   "display_name": "Python 3",
   "language": "python",
   "name": "python3"
  },
  "language_info": {
   "codemirror_mode": {
    "name": "ipython",
    "version": 2
   },
   "file_extension": ".py",
   "mimetype": "text/x-python",
   "name": "python",
   "nbconvert_exporter": "python",
   "pygments_lexer": "ipython2",
   "version": "2.7.6"
  }
 },
 "nbformat": 4,
 "nbformat_minor": 0
}
